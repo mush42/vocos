{
  "cells": [
    {
      "cell_type": "code",
      "execution_count": null,
      "metadata": {},
      "outputs": [],
      "source": [
        "<a href=\"https://colab.research.google.com/github/mush42/vocos/blob/main/notebooks/train.ipynb\" target=\"_parent\"><img src=\"https://colab.research.google.com/assets/colab-badge.svg\" alt=\"Open In Colab\"/></a>"
      ]
    },
    {
      "cell_type": "code",
      "execution_count": null,
      "metadata": {
        "cellView": "form",
        "id": "qyxSMuzjfQrz"
      },
      "outputs": [],
      "source": [
        "#@markdown # **Google Colab Anti-Disconnect.** 🔌\n",
        "#@markdown Avoid automatic disconnection. Still, it will disconnect after **6 to 12 hours**.\n",
        "\n",
        "import IPython\n",
        "js_code = '''\n",
        "function ClickConnect(){\n",
        "console.log(\"Working\");\n",
        "document.querySelector(\"colab-toolbar-button#connect\").click()\n",
        "}\n",
        "setInterval(ClickConnect,60000)\n",
        "'''\n",
        "display(IPython.display.Javascript(js_code))"
      ]
    },
    {
      "cell_type": "code",
      "execution_count": null,
      "metadata": {
        "cellView": "form",
        "id": "ygxzp-xHTC7T"
      },
      "outputs": [],
      "source": [
        "#@markdown # **Check GPU type.** 👁️\n",
        "#@markdown A higher capable GPU can lead to faster training speeds. By default, you will have a **Tesla T4**.\n",
        "!nvidia-smi"
      ]
    },
    {
      "cell_type": "code",
      "execution_count": null,
      "metadata": {
        "cellView": "form",
        "id": "sUNjId07JfAK"
      },
      "outputs": [],
      "source": [
        "#@markdown # **Mount Google Drive.** 📂\n",
        "\n",
        "from google.colab import drive\n",
        "drive.mount('/content/drive', force_remount=True)"
      ]
    },
    {
      "cell_type": "code",
      "execution_count": null,
      "metadata": {
        "cellView": "form",
        "id": "_XwmTVlcUgCh"
      },
      "outputs": [],
      "source": [
        "#@markdown # Clone repo\n",
        "#@markdown In this cell the repo will be cloned and updated\n",
        "\n",
        "# clone:\n",
        "!git clone https://github.com/mush42/vocos\n",
        "\n",
        "%cd /content/vocos\n",
        "\n",
        "!git pull\n",
        "\n",
        "# install system packages\n",
        "!apt-get install -y libsox-dev"
      ]
    },
    {
      "cell_type": "code",
      "execution_count": null,
      "metadata": {},
      "outputs": [],
      "source": [
        "#@markdown # **Install software.** 📦\n",
        "#@markdown In this cell the package and its necessary dependencies to execute the training will be installed. (this may take a while)\n",
        "\n",
        "#@markdown **Note: Please restart the runtime environment when the cell execution is finished. Then you can continue with the training section.**\n",
        "\n",
        "%cd /content/vocos\n",
        "\n",
        "!python -m pip install --upgrade pip wheel setuptools\n",
        "!python -m pip install -r requirements.txt\n",
        "!python -m pip install -r requirements-train.txt"
      ]
    },
    {
      "cell_type": "code",
      "execution_count": null,
      "metadata": {},
      "outputs": [],
      "source": [
        "#@markdown # Get the dataset\n",
        "#@markdown In this cell the dataset is obtained\n",
        "\n",
        "!mkdir -p /content/drive/MyDrive/vocos/\n",
        "\n",
        "%cd /content\n",
        "\n",
        "!git clone --depth=1 https://github.com/AliMokhammad/arabicttstrain\n",
        "\n"
      ]
    },
    {
      "cell_type": "code",
      "execution_count": null,
      "metadata": {},
      "outputs": [],
      "source": [
        "#@markdown # Start the training\n",
        "#@markdown In this cell the training will start (this may take a while)\n",
        "\n",
        "import os\n",
        "from pathlib import Path\n",
        "\n",
        "maybe_last_checkpoint = Path(\"/content/drive/MyDrive/vocos/logs\").rglob(\"last.ckpt\")\n",
        "\n",
        "try:\n",
        "    last_checkpoint = next(maybe_last_checkpoint)\n",
        "except StopIteration:\n",
        "    last_checkpoint = None\n",
        "\n",
        "%cd /content/vocos\n",
        "\n",
        "!python train.py --help\n",
        "\n",
        "command = [\"python train.py -c ./notebooks/vocos.yaml\"]\n",
        "\n",
        "if last_checkpoint is not None:\n",
        "    command.append(f\"--resume-from-checkpoint {os.fspath(last_checkpoint)}\")\n",
        "\n",
        "get_ipython().system(\" \".join(command))\n"
      ]
    }
  ],
  "metadata": {
    "accelerator": "GPU",
    "colab": {
      "gpuType": "T4",
      "include_colab_link": true,
      "provenance": []
    },
    "gpuClass": "standard",
    "kernelspec": {
      "display_name": "Python 3",
      "name": "python3"
    },
    "language_info": {
      "name": "python"
    }
  },
  "nbformat": 4,
  "nbformat_minor": 0
}
